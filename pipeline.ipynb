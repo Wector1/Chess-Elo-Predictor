{
 "cells": [
  {
   "cell_type": "code",
   "execution_count": 1,
   "metadata": {},
   "outputs": [],
   "source": [
    "from sklearn.pipeline import Pipeline\n",
    "from sklearn.compose import ColumnTransformer\n",
    "from sklearn.impute import SimpleImputer\n",
    "from sklearn.preprocessing import OneHotEncoder,  StandardScaler\n",
    "from sklearn.base import BaseEstimator, TransformerMixin\n",
    "import pandas as pd\n",
    "import numpy as np\n",
    "from scipy import sparse"
   ]
  },
  {
   "cell_type": "markdown",
   "metadata": {},
   "source": [
    "We did not want to store redundant columns, so in our dataset we do not have average values (these can be calculated without any problems).\\\n",
    "Method transofrm in our class CombinedAttributesAdder calculates them."
   ]
  },
  {
   "cell_type": "code",
   "execution_count": 2,
   "metadata": {},
   "outputs": [],
   "source": [
    "class CombinedAttributesAdder(BaseEstimator, TransformerMixin):\n",
    "    def __init__(self, indices):\n",
    "        self.indices = indices\n",
    "    def fit(self, X, y=None):\n",
    "        return self  # nothing else to do\n",
    "    def transform(self, X, y=None):\n",
    "        avg_white_cpl = X[:,self.indices[\"white_cpl\"]] / X[:,self.indices[\"white_moves\"]] \n",
    "        avg_black_cpl = X[:,self.indices[\"black_cpl\"]] / X[:,self.indices[\"black_moves\"]] \n",
    "        avg_white_mistakes = X[:,self.indices[\"white_mistakes\"]] / X[:,self.indices[\"white_moves\"]] \n",
    "        avg_black_mistakes = X[:,self.indices[\"black_mistakes\"]] / X[:,self.indices[\"black_moves\"]] \n",
    "        avg_white_blunders = X[:,self.indices[\"white_blunders\"]] / X[:,self.indices[\"white_moves\"]] \n",
    "        avg_black_blunders = X[:,self.indices[\"black_blunders\"]] / X[:,self.indices[\"black_moves\"]] \n",
    "        avg_white_inaccuracies = X[:,self.indices[\"white_inaccuracies\"]] / X[:,self.indices[\"white_moves\"]] \n",
    "        avg_black_inaccuracies = X[:,self.indices[\"black_inaccuracies\"]] / X[:,self.indices[\"black_moves\"]] \n",
    "        \n",
    "        return np.c_[X, avg_black_cpl, avg_black_blunders, avg_black_mistakes, avg_black_inaccuracies, avg_white_cpl, avg_white_blunders, avg_white_mistakes, avg_white_inaccuracies]"
   ]
  },
  {
   "cell_type": "markdown",
   "metadata": {},
   "source": [
    "Now we create pipeline, which then can be used to transform new examples according to the same schema."
   ]
  },
  {
   "cell_type": "code",
   "execution_count": 3,
   "metadata": {},
   "outputs": [],
   "source": [
    "data_num = ['white_rating_diff', 'black_rating_diff', 'white_cpl', 'black_cpl', 'white_moves', 'black_moves', 'white_inaccuracies', 'white_mistakes', 'white_blunders', 'black_inaccuracies', 'black_mistakes', 'black_blunders']\n",
    "data_num_dict = {col: idx for idx, col in enumerate(data_num)}\n",
    "data_cat = ['result', 'time_control', 'termination']\n",
    "\n",
    "num_pipeline = Pipeline([\n",
    "    ('imputer', SimpleImputer(strategy=\"median\")),\n",
    "    ('attribs_adder', CombinedAttributesAdder(data_num_dict)),\n",
    "    ('std_scaler', StandardScaler())\n",
    "])\n",
    "\n",
    "full_pipeline = ColumnTransformer([\n",
    "    ('num', num_pipeline, data_num),\n",
    "    ('cat', OneHotEncoder(), data_cat)\n",
    "])"
   ]
  },
  {
   "cell_type": "code",
   "execution_count": 4,
   "metadata": {},
   "outputs": [],
   "source": [
    "all_files = [\"data/dataBig_\" + it +  \".csv\" for it in [\"180_0\", \"180_2\", \"300_0\", \"300_3\"]]\n",
    "\n",
    "li = []\n",
    "\n",
    "for filename in all_files:\n",
    "    df = pd.read_csv(filename, index_col=None, header=0)\n",
    "    li.append(df)\n",
    "\n",
    "data = pd.concat(li, axis=0, ignore_index=True)\n",
    "\n",
    "data = data[data[\"white_moves\"] > 10]\n",
    "data = data[data[\"white_moves\"] < 70]\n",
    "data = data[abs(data[\"white_rating_diff\"]) < 12]\n",
    "data = data[abs(data[\"black_rating_diff\"]) < 12]\n",
    "data = data[(data[\"white_elo\"] > 1000) & (data[\"white_elo\"] < 2300)]\n",
    "data = data[(data[\"black_elo\"] > 1000) & (data[\"black_elo\"] < 2300)]\n",
    "data_prepared = full_pipeline.fit_transform(data)\n"
   ]
  },
  {
   "cell_type": "code",
   "execution_count": 5,
   "metadata": {},
   "outputs": [],
   "source": [
    "assert len(data['white_elo']) == len(data_prepared)"
   ]
  },
  {
   "cell_type": "code",
   "execution_count": 6,
   "metadata": {},
   "outputs": [],
   "source": [
    "np.save(\"./data/data_prepared.npy\", data_prepared)\n",
    "data[\"white_elo\"].to_csv(\"./data/data_prepared_labels.csv\", index=False, header=True)"
   ]
  },
  {
   "cell_type": "markdown",
   "metadata": {},
   "source": [
    "We decided to have a small portion of data, containing only players for which we have some games, to tests our results on more realistic data than only one game."
   ]
  },
  {
   "cell_type": "code",
   "execution_count": 7,
   "metadata": {},
   "outputs": [],
   "source": [
    "skipped = 0\n",
    "for x in range(20):\n",
    "    df = pd.read_csv(\"players/player_\" + str(x) + \".csv\", index_col=None, header=0)\n",
    "    df = df[df[\"time_control\"].isin([\"180+0\", \"180+2\", \"300+0\", \"300+3\"])]\n",
    "    df = df[df[\"white_moves\"] > 10]\n",
    "    df = df[df[\"white_moves\"] < 70]\n",
    "    df = df[abs(df[\"white_rating_diff\"]) < 12]\n",
    "    df = df[abs(df[\"black_rating_diff\"]) < 12]\n",
    "    df = df[(df[\"white_elo\"] > 1000) & (df[\"white_elo\"] < 2300)]\n",
    "    df = df[(df[\"black_elo\"] > 1000) & (df[\"black_elo\"] < 2300)]\n",
    "\n",
    "    if len(df) == 0:\n",
    "        skipped += 1\n",
    "        continue\n",
    "\n",
    "    players_prepared = full_pipeline.transform(df)\n",
    "    np.save(f\"./players/player_prepared_{x - skipped}.npy\", players_prepared)\n",
    "    df[\"white_elo\"].to_csv(f\"./players/player_prepared_labels_{x - skipped}.csv\", index=False, header=True)"
   ]
  }
 ],
 "metadata": {
  "kernelspec": {
   "display_name": "Python 3",
   "language": "python",
   "name": "python3"
  },
  "language_info": {
   "codemirror_mode": {
    "name": "ipython",
    "version": 3
   },
   "file_extension": ".py",
   "mimetype": "text/x-python",
   "name": "python",
   "nbconvert_exporter": "python",
   "pygments_lexer": "ipython3",
   "version": "3.10.12"
  },
  "orig_nbformat": 4
 },
 "nbformat": 4,
 "nbformat_minor": 2
}
